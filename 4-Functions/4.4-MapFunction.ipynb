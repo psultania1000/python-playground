{
 "cells": [
  {
   "cell_type": "markdown",
   "id": "a3cfad6a",
   "metadata": {},
   "source": [
    "### The map() Function in Python\n",
    "\n",
    "The map() function applies function to all items in an input list (or any other iterable) and returns a map object (an iterable). This is particularly useful for transforming data in a list comprehensively.\n"
   ]
  },
  {
   "cell_type": "code",
   "execution_count": 1,
   "id": "c87b8d34",
   "metadata": {},
   "outputs": [
    {
     "data": {
      "text/plain": [
       "[1, 4, 9, 16, 25, 36]"
      ]
     },
     "execution_count": 1,
     "metadata": {},
     "output_type": "execute_result"
    }
   ],
   "source": [
    "def square(num):\n",
    "    return num*num\n",
    "\n",
    "numbers=[1,2,3,4,5,6]\n",
    "\n",
    "list(map(square, numbers))"
   ]
  },
  {
   "cell_type": "code",
   "execution_count": 2,
   "id": "fd881540",
   "metadata": {},
   "outputs": [
    {
     "data": {
      "text/plain": [
       "[1, 4, 9, 16, 25, 36, 49, 64]"
      ]
     },
     "execution_count": 2,
     "metadata": {},
     "output_type": "execute_result"
    }
   ],
   "source": [
    "numbers=[1,2,3,4,5,6,7,8]\n",
    "list(map(lambda x:x*x, numbers))"
   ]
  },
  {
   "cell_type": "code",
   "execution_count": 5,
   "id": "30d31059",
   "metadata": {},
   "outputs": [
    {
     "data": {
      "text/plain": [
       "[6, 8, 10]"
      ]
     },
     "execution_count": 5,
     "metadata": {},
     "output_type": "execute_result"
    }
   ],
   "source": [
    "## Map multiple iterable\n",
    "\n",
    "numbers1 = [1, 2, 3]\n",
    "numbers2 = [5, 6, 7]\n",
    "\n",
    "list(map(lambda x,y: x + y, numbers1, numbers2))"
   ]
  },
  {
   "cell_type": "code",
   "execution_count": 7,
   "id": "1e758e85",
   "metadata": {},
   "outputs": [
    {
     "name": "stdout",
     "output_type": "stream",
     "text": [
      "[1, 2, 3, 4, 5]\n"
     ]
    }
   ],
   "source": [
    "## map() to convert list of string to integers\n",
    "# Use map to convert strings to integers\n",
    "\n",
    "str_numbers = ['1', '2', '3', '4', '5']\n",
    "int_numbers = list(map(int, str_numbers))\n",
    "print(int_numbers)"
   ]
  },
  {
   "cell_type": "code",
   "execution_count": 8,
   "id": "e86530ac",
   "metadata": {},
   "outputs": [
    {
     "name": "stdout",
     "output_type": "stream",
     "text": [
      "['APPLE', 'BANANA', 'CHERRY']\n"
     ]
    }
   ],
   "source": [
    "words = ['apple', 'banana', 'cherry']\n",
    "upper_words = list(map(str.upper, words))\n",
    "print(upper_words)"
   ]
  },
  {
   "cell_type": "code",
   "execution_count": 9,
   "id": "8bb5e20a",
   "metadata": {},
   "outputs": [
    {
     "name": "stdout",
     "output_type": "stream",
     "text": [
      "['Priyansh', 'Utsav']\n"
     ]
    }
   ],
   "source": [
    "def get_name(person):\n",
    "    return person['name']\n",
    "\n",
    "persons = [\n",
    "    {'name': 'Priyansh', 'age': 27},\n",
    "    {'name': 'Utsav', 'age': 26}\n",
    "]\n",
    "\n",
    "print(list(map(get_name, persons)))"
   ]
  },
  {
   "cell_type": "markdown",
   "id": "d0fe7e1f",
   "metadata": {},
   "source": [
    "### Conclusion\n",
    "\n",
    "The map() function is a powerful tool for applying transformations to iterable data structure. It can be used with regular functions, lambda functions, and even multiple iterables, providing a versatile approach to data processing in python. By understanding and utilizing map(), you can write more efficient readable code.\n"
   ]
  },
  {
   "cell_type": "markdown",
   "id": "f966c5fd",
   "metadata": {},
   "source": []
  }
 ],
 "metadata": {
  "kernelspec": {
   "display_name": "Python 3",
   "language": "python",
   "name": "python3"
  },
  "language_info": {
   "codemirror_mode": {
    "name": "ipython",
    "version": 3
   },
   "file_extension": ".py",
   "mimetype": "text/x-python",
   "name": "python",
   "nbconvert_exporter": "python",
   "pygments_lexer": "ipython3",
   "version": "3.12.0"
  }
 },
 "nbformat": 4,
 "nbformat_minor": 5
}
