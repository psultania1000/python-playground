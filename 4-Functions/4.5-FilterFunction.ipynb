{
 "cells": [
  {
   "cell_type": "markdown",
   "id": "4fb893b7",
   "metadata": {},
   "source": [
    "### The filter() function in python\n",
    "\n",
    "The filter() function constructs an iterator from elements of an iterable for which a function returns true. It is used to filter out items from a list (or any other iterable) based on a condition.\n"
   ]
  },
  {
   "cell_type": "code",
   "execution_count": 2,
   "id": "22922083",
   "metadata": {},
   "outputs": [
    {
     "name": "stdout",
     "output_type": "stream",
     "text": [
      "True\n",
      "False\n"
     ]
    }
   ],
   "source": [
    "def even(num):\n",
    "    return True if num%2==0 else False\n",
    "\n",
    "print(even(24))\n",
    "print(even(23)) "
   ]
  },
  {
   "cell_type": "code",
   "execution_count": 3,
   "id": "3826d965",
   "metadata": {},
   "outputs": [
    {
     "name": "stdout",
     "output_type": "stream",
     "text": [
      "[2, 4, 6, 8, 10]\n"
     ]
    }
   ],
   "source": [
    "lst = [1, 2, 3, 4, 5, 6, 7, 8, 9, 10]\n",
    "print(list(filter( even ,lst)))"
   ]
  },
  {
   "cell_type": "code",
   "execution_count": null,
   "id": "f92b63a0",
   "metadata": {},
   "outputs": [
    {
     "name": "stdout",
     "output_type": "stream",
     "text": [
      "[2, 4, 6, 8, 10]\n",
      "[6, 7, 8, 9, 10]\n"
     ]
    }
   ],
   "source": [
    "## filter with a lambda function\n",
    "print(list(filter(lambda x: x%2==0, lst)))  # Even Odd\n",
    "print(list(filter(lambda x: x>5, lst))) # Greater than 5"
   ]
  },
  {
   "cell_type": "code",
   "execution_count": 8,
   "id": "9252d13d",
   "metadata": {},
   "outputs": [
    {
     "name": "stdout",
     "output_type": "stream",
     "text": [
      "[6, 8, 10]\n"
     ]
    }
   ],
   "source": [
    "## Filter with lambda function and multiple condition\n",
    "\n",
    "print(list(filter(lambda x: x%2==0 and x > 5, lst)))    # even and greater than 5"
   ]
  },
  {
   "cell_type": "code",
   "execution_count": 11,
   "id": "3bee3b7c",
   "metadata": {},
   "outputs": [
    {
     "name": "stdout",
     "output_type": "stream",
     "text": [
      "[{'name': 'Jack', 'age': 25}, {'name': 'Priyansh', 'age': 27}, {'name': 'Utsav', 'age': 26}]\n"
     ]
    }
   ],
   "source": [
    "## FIlter to check if the age is greater than 25 in dictionaries\n",
    "\n",
    "persons = [\n",
    "    {'name': 'John', 'age': 24},\n",
    "    {'name': 'Jack', 'age': 25},\n",
    "    {'name': 'Priyansh', 'age': 27},\n",
    "    {'name': 'Utsav', 'age': 26}\n",
    "]\n",
    "\n",
    "print(list(filter(lambda x: x['age'] >= 25, persons)))"
   ]
  },
  {
   "cell_type": "markdown",
   "id": "faeeb1cf",
   "metadata": {},
   "source": [
    "### Conclusion\n",
    "\n",
    "The filter function is a powerful tool for creating iterators that filters items out of an iterable based on a function. It is commonly used for data cleaning, filtering objects, and removing unwanted elements from lists. By mastering filter(), you can write more concise and efficient code for processing and manipulating collections in Python.\n"
   ]
  },
  {
   "cell_type": "markdown",
   "id": "057dc9d3",
   "metadata": {},
   "source": []
  }
 ],
 "metadata": {
  "kernelspec": {
   "display_name": "Python 3",
   "language": "python",
   "name": "python3"
  },
  "language_info": {
   "codemirror_mode": {
    "name": "ipython",
    "version": 3
   },
   "file_extension": ".py",
   "mimetype": "text/x-python",
   "name": "python",
   "nbconvert_exporter": "python",
   "pygments_lexer": "ipython3",
   "version": "3.12.0"
  }
 },
 "nbformat": 4,
 "nbformat_minor": 5
}
