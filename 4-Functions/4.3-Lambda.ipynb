{
 "cells": [
  {
   "cell_type": "markdown",
   "id": "876453af",
   "metadata": {},
   "source": [
    "### Lambda Function in Python\n",
    "\n",
    "Lambda function are small anonymous functions defined using lambda keyword. They can have any number of arguments but only one expression. They are commonly used for short operations or as arguments to higher-order functions.\n"
   ]
  },
  {
   "cell_type": "code",
   "execution_count": null,
   "id": "ce6eec4f",
   "metadata": {},
   "outputs": [],
   "source": [
    "#Syntax    \n",
    "lambda arguments: expression "
   ]
  },
  {
   "cell_type": "code",
   "execution_count": null,
   "id": "6647cf05",
   "metadata": {},
   "outputs": [],
   "source": [
    "def addition(a, b):\n",
    "    return a + b\n",
    "\n",
    "add=lambda a,b:a+b\n",
    "type(add)\n"
   ]
  },
  {
   "cell_type": "markdown",
   "id": "f0ca2b75",
   "metadata": {},
   "source": []
  }
 ],
 "metadata": {
  "kernelspec": {
   "display_name": "Python 3",
   "language": "python",
   "name": "python3"
  },
  "language_info": {
   "name": "python",
   "version": "3.12.0"
  }
 },
 "nbformat": 4,
 "nbformat_minor": 5
}
