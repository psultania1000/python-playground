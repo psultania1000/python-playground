{
 "cells": [
  {
   "cell_type": "markdown",
   "id": "876453af",
   "metadata": {},
   "source": [
    "### Lambda Function in Python\n",
    "\n",
    "Lambda function are small anonymous functions defined using lambda keyword. They can have any number of arguments but only one expression. They are commonly used for short operations or as arguments to higher-order functions.\n"
   ]
  },
  {
   "cell_type": "code",
   "execution_count": null,
   "id": "ce6eec4f",
   "metadata": {},
   "outputs": [],
   "source": [
    "#Syntax    \n",
    "lambda arguments: expression "
   ]
  },
  {
   "cell_type": "code",
   "execution_count": 3,
   "id": "6647cf05",
   "metadata": {},
   "outputs": [
    {
     "name": "stdout",
     "output_type": "stream",
     "text": [
      "7\n"
     ]
    }
   ],
   "source": [
    "def addition(a, b):\n",
    "    return a + b\n",
    "\n",
    "add=lambda a,b:a+b\n",
    "type(add)\n",
    "print(add(3,4))\n"
   ]
  },
  {
   "cell_type": "code",
   "execution_count": 4,
   "id": "f0ca2b75",
   "metadata": {},
   "outputs": [
    {
     "name": "stdout",
     "output_type": "stream",
     "text": [
      "True\n"
     ]
    }
   ],
   "source": [
    "def even(num):\n",
    "    if num % 2 == 0:\n",
    "        return True\n",
    "    \n",
    "    return False\n",
    "\n",
    "is_even = lambda num: num % 2 == 0\n",
    "\n",
    "print(is_even(34))"
   ]
  },
  {
   "cell_type": "code",
   "execution_count": null,
   "id": "af3bbce7",
   "metadata": {},
   "outputs": [],
   "source": [
    " ## map()\n",
    " numbers=[1,2,3,4,5,6]\n",
    " \n",
    " def square(number):\n",
    "     return number**2;\n",
    " \n",
    " "
   ]
  }
 ],
 "metadata": {
  "kernelspec": {
   "display_name": "Python 3",
   "language": "python",
   "name": "python3"
  },
  "language_info": {
   "codemirror_mode": {
    "name": "ipython",
    "version": 3
   },
   "file_extension": ".py",
   "mimetype": "text/x-python",
   "name": "python",
   "nbconvert_exporter": "python",
   "pygments_lexer": "ipython3",
   "version": "3.12.0"
  }
 },
 "nbformat": 4,
 "nbformat_minor": 5
}
