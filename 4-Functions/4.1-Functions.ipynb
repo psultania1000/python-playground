{
 "cells": [
  {
   "cell_type": "markdown",
   "metadata": {},
   "source": [
    "### Function in Python\n",
    "\n",
    "In this notebook:\n",
    "\n",
    "1. Introduction to Functions\n",
    "2. Defining Functions\n",
    "3. Calling Functions\n",
    "4. Function Parameters\n",
    "5. Default Parameters\n",
    "6. Variable-Length Arguments\n",
    "7. Return Statement\n",
    "\n",
    "### Introduction to Functions\n",
    "\n",
    "Definition:\n",
    "\n",
    "A function is a block of code that performs a specific task. Functions helps in organizing code, reusing code and improving readability.\n"
   ]
  },
  {
   "cell_type": "code",
   "execution_count": 2,
   "metadata": {},
   "outputs": [],
   "source": [
    "## Syntax\n",
    "def function_name(parameters): \n",
    "    \"\"\"Docstring\"\"\"\n",
    "    # Function body\n",
    "    return expression\n"
   ]
  },
  {
   "cell_type": "code",
   "execution_count": null,
   "metadata": {},
   "outputs": [],
   "source": []
  }
 ],
 "metadata": {
  "kernelspec": {
   "display_name": "venv",
   "language": "python",
   "name": "python3"
  },
  "language_info": {
   "codemirror_mode": {
    "name": "ipython",
    "version": 3
   },
   "file_extension": ".py",
   "mimetype": "text/x-python",
   "name": "python",
   "nbconvert_exporter": "python",
   "pygments_lexer": "ipython3",
   "version": "3.12.0"
  }
 },
 "nbformat": 4,
 "nbformat_minor": 2
}
