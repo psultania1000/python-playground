{
 "cells": [
  {
   "cell_type": "markdown",
   "metadata": {},
   "source": [
    "### Dictionaries\n",
    "\n",
    "In this notebook:\n",
    "\n",
    "1. Introductino to Dictionaries\n",
    "2. Creating Dictionaries\n",
    "3. Accessing Dictionaries Elements\n",
    "4. Dictionaries Methods\n",
    "5. Modifying Dictionaries Elements\n",
    "6. Iterating Over Dictionaries\n",
    "7. Nested Dictionaries\n",
    "8. Dictionaries Comprehensions\n",
    "9. Practical Examples and Common Errors\n",
    "\n",
    "### Introduction to Dictionaries\n",
    "\n",
    "Dictionaries are unordered collection of items. They store data in key-value pairs. Keys must be unique and immutable (e.g., strings, numbers, or tuples), while values can be of any type.\n"
   ]
  },
  {
   "cell_type": "markdown",
   "metadata": {},
   "source": []
  }
 ],
 "metadata": {
  "language_info": {
   "name": "python"
  }
 },
 "nbformat": 4,
 "nbformat_minor": 2
}
