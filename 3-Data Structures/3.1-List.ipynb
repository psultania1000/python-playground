{
 "cells": [
  {
   "cell_type": "markdown",
   "metadata": {},
   "source": [
    "### Introduction to lists\n",
    "\n",
    "- Lists are ordered, mutable collections of items.\n",
    "- They can contain items of different data types.\n",
    "\n",
    "In this notebook:\n",
    "\n",
    "1. Introduction to Lists\n",
    "2. Creating Lists\n",
    "3. Accessing List Elements\n",
    "4. Modifying List Elements\n",
    "5. List Methods\n",
    "6. Slicing Lists\n",
    "7. Iterating Over Lists\n",
    "8. List Comprehensions\n",
    "9. Nested Lists\n",
    "10. Practice Examples and Common Errors\n"
   ]
  },
  {
   "cell_type": "code",
   "execution_count": 1,
   "metadata": {},
   "outputs": [
    {
     "name": "stdout",
     "output_type": "stream",
     "text": [
      "<class 'list'>\n"
     ]
    }
   ],
   "source": [
    "lst = []\n",
    "print(type(lst))"
   ]
  },
  {
   "cell_type": "code",
   "execution_count": 2,
   "metadata": {},
   "outputs": [
    {
     "name": "stdout",
     "output_type": "stream",
     "text": [
      "['priyansh', 'sultania', 1, 2.4, True]\n"
     ]
    }
   ],
   "source": [
    "value=[\"priyansh\", \"sultania\", 1, 2.4, True]\n",
    "print(value)"
   ]
  },
  {
   "cell_type": "code",
   "execution_count": 6,
   "metadata": {},
   "outputs": [
    {
     "name": "stdout",
     "output_type": "stream",
     "text": [
      "Apple Cherry\n",
      "Guava\n"
     ]
    }
   ],
   "source": [
    "## Accessing List Elements\n",
    "\n",
    "fruits = [\"Apple\", \"Banana\", \"Cherry\", \"Kiwi\", \"Guava\"]\n",
    "print(fruits[0], fruits[2])\n",
    "print(fruits[-1]) # Printing last element"
   ]
  },
  {
   "cell_type": "code",
   "execution_count": 7,
   "metadata": {},
   "outputs": [
    {
     "name": "stdout",
     "output_type": "stream",
     "text": [
      "['Banana', 'Cherry', 'Kiwi', 'Guava']\n"
     ]
    }
   ],
   "source": [
    "print(fruits[1:])"
   ]
  },
  {
   "cell_type": "code",
   "execution_count": 9,
   "metadata": {},
   "outputs": [
    {
     "name": "stdout",
     "output_type": "stream",
     "text": [
      "['Banana', 'Cherry']\n"
     ]
    }
   ],
   "source": [
    "print(fruits[1:3]) # from including index to excluding index"
   ]
  },
  {
   "cell_type": "code",
   "execution_count": 10,
   "metadata": {},
   "outputs": [],
   "source": [
    "## Modifying The list of elements\n",
    "\n",
    "fruits[1] = \"Orange\""
   ]
  },
  {
   "cell_type": "code",
   "execution_count": 13,
   "metadata": {},
   "outputs": [
    {
     "name": "stdout",
     "output_type": "stream",
     "text": [
      "['Apple', 'Orange', 'Cherry', 'w', 'a', 't', 'e', 'r', 'm', 'e', 'l', 'o', 'n']\n"
     ]
    }
   ],
   "source": [
    "fruits[3:] = \"watermelon\"\n",
    "print(fruits)"
   ]
  },
  {
   "cell_type": "code",
   "execution_count": 15,
   "metadata": {},
   "outputs": [
    {
     "name": "stdout",
     "output_type": "stream",
     "text": [
      "['Apple', 'Orange', 'Cherry', 'w', 'a', 't', 'e', 'r', 'm', 'e', 'l', 'o', 'n', 'blueberries', 'blueberries']\n"
     ]
    }
   ],
   "source": [
    "fruits.append(\"blueberries\")\n",
    "print(fruits)"
   ]
  },
  {
   "cell_type": "code",
   "execution_count": 17,
   "metadata": {},
   "outputs": [
    {
     "name": "stdout",
     "output_type": "stream",
     "text": [
      "['Apple', 'mulberry', 'mulberry', 'Orange', 'Cherry', 'w', 'a', 't', 'e', 'r', 'm', 'e', 'l', 'o', 'n', 'blueberries', 'blueberries']\n"
     ]
    }
   ],
   "source": [
    "fruits.insert(1, \"mulberry\") \n",
    "print(fruits)"
   ]
  },
  {
   "cell_type": "code",
   "execution_count": 21,
   "metadata": {},
   "outputs": [
    {
     "name": "stdout",
     "output_type": "stream",
     "text": [
      "['mulberry', 'mulberry', 'Orange', 'Cherry', 'a', 't', 'e', 'r', 'm', 'e', 'l', 'o', 'n', 'blueberries', 'blueberries']\n"
     ]
    }
   ],
   "source": [
    "fruits.remove(\"w\") ## Removing the first occurence of an item\n",
    "## It will throw an error if the item is not present\n",
    "print(fruits)"
   ]
  },
  {
   "cell_type": "code",
   "execution_count": 23,
   "metadata": {},
   "outputs": [
    {
     "name": "stdout",
     "output_type": "stream",
     "text": [
      "blueberries\n",
      "['mulberry', 'mulberry', 'Orange', 'Cherry', 'a', 't', 'e', 'r', 'm', 'e', 'l', 'o', 'n', 'blueberries']\n"
     ]
    }
   ],
   "source": [
    "## Remove and return the last item\n",
    "popped_fruits = fruits.pop()\n",
    "print(popped_fruits)\n",
    "print(fruits)"
   ]
  },
  {
   "cell_type": "code",
   "execution_count": 4,
   "metadata": {},
   "outputs": [
    {
     "ename": "NameError",
     "evalue": "name 'fruits' is not defined",
     "output_type": "error",
     "traceback": [
      "\u001b[31m---------------------------------------------------------------------------\u001b[39m",
      "\u001b[31mNameError\u001b[39m                                 Traceback (most recent call last)",
      "\u001b[36mCell\u001b[39m\u001b[36m \u001b[39m\u001b[32mIn[4]\u001b[39m\u001b[32m, line 1\u001b[39m\n\u001b[32m----> \u001b[39m\u001b[32m1\u001b[39m \u001b[38;5;28mprint\u001b[39m(\u001b[43mfruits\u001b[49m.index(\u001b[33m'\u001b[39m\u001b[33mOrange\u001b[39m\u001b[33m'\u001b[39m))\n",
      "\u001b[31mNameError\u001b[39m: name 'fruits' is not defined"
     ]
    }
   ],
   "source": [
    "print(fruits.index('Cherry'))"
   ]
  },
  {
   "cell_type": "code",
   "execution_count": null,
   "metadata": {},
   "outputs": [],
   "source": []
  }
 ],
 "metadata": {
  "kernelspec": {
   "display_name": "venv",
   "language": "python",
   "name": "python3"
  },
  "language_info": {
   "codemirror_mode": {
    "name": "ipython",
    "version": 3
   },
   "file_extension": ".py",
   "mimetype": "text/x-python",
   "name": "python",
   "nbconvert_exporter": "python",
   "pygments_lexer": "ipython3",
   "version": "3.12.0"
  }
 },
 "nbformat": 4,
 "nbformat_minor": 2
}
