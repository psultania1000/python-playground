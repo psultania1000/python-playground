{
 "cells": [
  {
   "cell_type": "markdown",
   "metadata": {},
   "source": [
    "### Deep Dive into Operators\n",
    "\n",
    "In this notebook:\n",
    "\n",
    "1. Introduction to Operators\n",
    "2. Arithmetic Operators\n",
    "   - Addition\n",
    "   - Substraction\n",
    "   - Multiplication\n",
    "   - Division\n",
    "   - Floor Division\n",
    "   - Modulus\n",
    "   - Exponentiation\n",
    "3. Comparision Operators\n",
    "   - Equal to\n",
    "   - Not equal to\n",
    "   - Greater than\n",
    "   - Less than\n",
    "   - Greater than or equal to\n",
    "   - Less than or equal to\n",
    "4. Logical Operators\n",
    "   - AND\n",
    "   - OR\n",
    "   - NOT\n",
    "5. Practical Examples and Common Errors\n"
   ]
  },
  {
   "cell_type": "code",
   "execution_count": 1,
   "metadata": {},
   "outputs": [
    {
     "name": "stdout",
     "output_type": "stream",
     "text": [
      "15\n",
      "5\n",
      "50\n",
      "2.0\n",
      "2\n",
      "0\n",
      "100000\n"
     ]
    }
   ],
   "source": [
    "## Arithmetic Operations:\n",
    "\n",
    "a = 10\n",
    "b = 5\n",
    "\n",
    "add_result = a + b\n",
    "sub_result = a - b\n",
    "mult_result = a * b\n",
    "div_result = a/b\n",
    "floor_div_result = a//b\n",
    "modulus_result = a % b\n",
    "\n",
    "exponent_result = a ** b\n",
    "print(add_result)\n",
    "print(sub_result)\n",
    "print(mult_result)\n",
    "print(div_result)\n",
    "print(floor_div_result)\n",
    "print(modulus_result)\n",
    "print(exponent_result)\n"
   ]
  },
  {
   "cell_type": "code",
   "execution_count": 4,
   "metadata": {},
   "outputs": [
    {
     "name": "stdout",
     "output_type": "stream",
     "text": [
      "True\n"
     ]
    }
   ],
   "source": [
    "## Comparison Operators\n",
    "## ==\n",
    "\n",
    "a = 10\n",
    "b = 10\n",
    "\n",
    "result=(a==b)\n",
    "print(result)"
   ]
  },
  {
   "cell_type": "code",
   "execution_count": 6,
   "metadata": {},
   "outputs": [
    {
     "name": "stdout",
     "output_type": "stream",
     "text": [
      "False\n",
      "True\n"
     ]
    }
   ],
   "source": [
    "str1=\"Priyansh\"\n",
    "str2=\"priyansh\"\n",
    "\n",
    "print(str1==str2)\n",
    "print(str1!=str2)"
   ]
  },
  {
   "cell_type": "code",
   "execution_count": 7,
   "metadata": {},
   "outputs": [
    {
     "name": "stdout",
     "output_type": "stream",
     "text": [
      "False\n",
      "True\n",
      "False\n",
      "True\n"
     ]
    }
   ],
   "source": [
    "## greater than >\n",
    "## less than <\n",
    "## greater than or equal to >=\n",
    "## less than or equal to >=\n",
    "num1 = 1\n",
    "num2 = 2\n",
    "\n",
    "print(num1>num2)\n",
    "print(num1<num2)\n",
    "print(num1>=num2)\n",
    "print(num1<=num2)\n"
   ]
  },
  {
   "cell_type": "code",
   "execution_count": 10,
   "metadata": {},
   "outputs": [
    {
     "name": "stdout",
     "output_type": "stream",
     "text": [
      "False\n",
      "True\n",
      "True\n"
     ]
    }
   ],
   "source": [
    "## Logical Operators\n",
    "\n",
    "X = False\n",
    "Y = True\n",
    "\n",
    "result = X and Y\n",
    "or_result = X or Y\n",
    "print(result)\n",
    "print(or_result)\n",
    "print(not X)"
   ]
  },
  {
   "cell_type": "code",
   "execution_count": null,
   "metadata": {},
   "outputs": [],
   "source": []
  }
 ],
 "metadata": {
  "kernelspec": {
   "display_name": "venv",
   "language": "python",
   "name": "python3"
  },
  "language_info": {
   "codemirror_mode": {
    "name": "ipython",
    "version": 3
   },
   "file_extension": ".py",
   "mimetype": "text/x-python",
   "name": "python",
   "nbconvert_exporter": "python",
   "pygments_lexer": "ipython3",
   "version": "3.12.0"
  }
 },
 "nbformat": 4,
 "nbformat_minor": 2
}
